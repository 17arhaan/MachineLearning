{
 "cells": [
  {
   "cell_type": "code",
   "execution_count": 1,
   "id": "354c97e0",
   "metadata": {},
   "outputs": [],
   "source": [
    "import numpy as np\n",
    "import pandas as pd\n",
    "import scipy\n",
    "import matplotlib as plt\n",
    "import seaborn as sns\n",
    "import sklearn"
   ]
  },
  {
   "cell_type": "code",
   "execution_count": 2,
   "id": "bb33c8e8",
   "metadata": {},
   "outputs": [
    {
     "data": {
      "text/html": [
       "<div>\n",
       "<style scoped>\n",
       "    .dataframe tbody tr th:only-of-type {\n",
       "        vertical-align: middle;\n",
       "    }\n",
       "\n",
       "    .dataframe tbody tr th {\n",
       "        vertical-align: top;\n",
       "    }\n",
       "\n",
       "    .dataframe thead th {\n",
       "        text-align: right;\n",
       "    }\n",
       "</style>\n",
       "<table border=\"1\" class=\"dataframe\">\n",
       "  <thead>\n",
       "    <tr style=\"text-align: right;\">\n",
       "      <th></th>\n",
       "      <th>one</th>\n",
       "      <th>two</th>\n",
       "      <th>three</th>\n",
       "    </tr>\n",
       "  </thead>\n",
       "  <tbody>\n",
       "    <tr>\n",
       "      <th>0</th>\n",
       "      <td>example1</td>\n",
       "      <td>example2</td>\n",
       "      <td>example3</td>\n",
       "    </tr>\n",
       "    <tr>\n",
       "      <th>1</th>\n",
       "      <td>T1</td>\n",
       "      <td>T2</td>\n",
       "      <td>T3</td>\n",
       "    </tr>\n",
       "    <tr>\n",
       "      <th>2</th>\n",
       "      <td>Sunday</td>\n",
       "      <td>Monday</td>\n",
       "      <td>Tuesday</td>\n",
       "    </tr>\n",
       "    <tr>\n",
       "      <th>3</th>\n",
       "      <td>Wednesday</td>\n",
       "      <td>Thursday</td>\n",
       "      <td>Friday</td>\n",
       "    </tr>\n",
       "    <tr>\n",
       "      <th>4</th>\n",
       "      <td>Saturday</td>\n",
       "      <td>NaN</td>\n",
       "      <td>NaN</td>\n",
       "    </tr>\n",
       "  </tbody>\n",
       "</table>\n",
       "</div>"
      ],
      "text/plain": [
       "         one       two     three\n",
       "0   example1  example2  example3\n",
       "1         T1        T2        T3\n",
       "2     Sunday    Monday   Tuesday\n",
       "3  Wednesday  Thursday    Friday\n",
       "4   Saturday       NaN       NaN"
      ]
     },
     "execution_count": 2,
     "metadata": {},
     "output_type": "execute_result"
    }
   ],
   "source": [
    "df = pd.read_csv('example.csv')\n",
    "df"
   ]
  },
  {
   "cell_type": "code",
   "execution_count": 5,
   "id": "c1a49ea1",
   "metadata": {},
   "outputs": [],
   "source": [
    "import csv"
   ]
  },
  {
   "cell_type": "code",
   "execution_count": 7,
   "id": "5e4a95fd",
   "metadata": {},
   "outputs": [
    {
     "name": "stdout",
     "output_type": "stream",
     "text": [
      "['one', 'two', 'three']\n",
      "['example1', 'example2', 'example3']\n",
      "['T1', 'T2', 'T3']\n",
      "['Sunday', 'Monday', 'Tuesday']\n",
      "['Wednesday', 'Thursday', 'Friday']\n",
      "['Saturday', '', '']\n"
     ]
    }
   ],
   "source": [
    "with open('example.csv', 'rt') as f:\n",
    "    data= csv.reader(f)\n",
    "    for i in data:\n",
    "        print(i)"
   ]
  },
  {
   "cell_type": "code",
   "execution_count": 8,
   "id": "07b95965",
   "metadata": {},
   "outputs": [
    {
     "name": "stdout",
     "output_type": "stream",
     "text": [
      "{'one': 'example1', 'two': 'example2', 'three': 'example3'}\n",
      "{'one': 'T1', 'two': 'T2', 'three': 'T3'}\n",
      "{'one': 'Sunday', 'two': 'Monday', 'three': 'Tuesday'}\n",
      "{'one': 'Wednesday', 'two': 'Thursday', 'three': 'Friday'}\n",
      "{'one': 'Saturday', 'two': '', 'three': ''}\n"
     ]
    }
   ],
   "source": [
    "reader=csv.DictReader(open('example.csv', 'rt'))\n",
    "for i in reader:\n",
    "    print(i)"
   ]
  },
  {
   "cell_type": "code",
   "execution_count": 13,
   "id": "39ab1360",
   "metadata": {},
   "outputs": [],
   "source": [
    "with open('example.csv', mode='a') as f:\n",
    "    writer=csv.writer(f,delimiter=',',quotechar=\",\",quoting=csv.QUOTE_MINIMAL)\n",
    "    writer.writerow(['One 1','Two 2','Three 3'])"
   ]
  },
  {
   "cell_type": "code",
   "execution_count": 16,
   "id": "99d8d376",
   "metadata": {},
   "outputs": [
    {
     "data": {
      "text/plain": [
       "array([0, 1, 2, 3, 4, 5, 6, 7, 8])"
      ]
     },
     "execution_count": 16,
     "metadata": {},
     "output_type": "execute_result"
    }
   ],
   "source": [
    "ass1=np.arange(9)\n",
    "ass1"
   ]
  },
  {
   "cell_type": "code",
   "execution_count": 18,
   "id": "75bdac04",
   "metadata": {},
   "outputs": [
    {
     "data": {
      "text/plain": [
       "array([[0, 1, 2],\n",
       "       [3, 4, 5],\n",
       "       [6, 7, 8]])"
      ]
     },
     "execution_count": 18,
     "metadata": {},
     "output_type": "execute_result"
    }
   ],
   "source": [
    "ass1.reshape(3,3)"
   ]
  },
  {
   "cell_type": "code",
   "execution_count": 19,
   "id": "976790ac",
   "metadata": {},
   "outputs": [],
   "source": [
    "ass2=np.arange(10)"
   ]
  },
  {
   "cell_type": "code",
   "execution_count": 20,
   "id": "fd70d809",
   "metadata": {},
   "outputs": [
    {
     "data": {
      "text/plain": [
       "array([ 0, -1,  2, -1,  4, -1,  6, -1,  8, -1])"
      ]
     },
     "execution_count": 20,
     "metadata": {},
     "output_type": "execute_result"
    }
   ],
   "source": [
    "for i in ass2:\n",
    "    if ass2[i]%2 == 1:\n",
    "        ass2[i] = -1\n",
    "ass2"
   ]
  },
  {
   "cell_type": "code",
   "execution_count": 29,
   "id": "6cd99f68",
   "metadata": {},
   "outputs": [],
   "source": [
    "x=np.array([21,64,86,22,74,55,81,79,90,89])\n",
    "y=np.array([21,7,3,45,10,29,55,4,37,18])\n",
    "a = []\n",
    "b = []"
   ]
  },
  {
   "cell_type": "code",
   "execution_count": 30,
   "id": "3f88d3bb",
   "metadata": {},
   "outputs": [],
   "source": [
    "for i in range(10):\n",
    "    if x[i] > y[i]:\n",
    "        a.append(i)\n",
    "    if x[i] == y[i]:\n",
    "        b.append(i)"
   ]
  },
  {
   "cell_type": "code",
   "execution_count": 31,
   "id": "e75a20f8",
   "metadata": {},
   "outputs": [
    {
     "data": {
      "text/plain": [
       "[1, 2, 4, 5, 6, 7, 8, 9]"
      ]
     },
     "execution_count": 31,
     "metadata": {},
     "output_type": "execute_result"
    }
   ],
   "source": [
    "a"
   ]
  },
  {
   "cell_type": "code",
   "execution_count": 32,
   "id": "8cd9cacd",
   "metadata": {},
   "outputs": [
    {
     "data": {
      "text/plain": [
       "[0]"
      ]
     },
     "execution_count": 32,
     "metadata": {},
     "output_type": "execute_result"
    }
   ],
   "source": [
    "b"
   ]
  },
  {
   "cell_type": "code",
   "execution_count": 33,
   "id": "fa91ae69",
   "metadata": {},
   "outputs": [],
   "source": [
    "ass4 = np.arange(100).reshape(5,-1)"
   ]
  },
  {
   "cell_type": "code",
   "execution_count": 36,
   "id": "a289ea16",
   "metadata": {},
   "outputs": [],
   "source": [
    "ass4"
   ]
  },
  {
   "cell_type": "code",
   "execution_count": 39,
   "id": "a7c31ede",
   "metadata": {},
   "outputs": [
    {
     "data": {
      "text/plain": [
       "array([[ 0,  1,  2,  3],\n",
       "       [20, 21, 22, 23],\n",
       "       [40, 41, 42, 43],\n",
       "       [60, 61, 62, 63],\n",
       "       [80, 81, 82, 83]])"
      ]
     },
     "execution_count": 39,
     "metadata": {},
     "output_type": "execute_result"
    }
   ],
   "source": [
    "ass4[0:, 0:4]"
   ]
  },
  {
   "cell_type": "code",
   "execution_count": 40,
   "id": "8f0e3fd9",
   "metadata": {},
   "outputs": [
    {
     "data": {
      "text/plain": [
       "[31, 38, 37, 38, 31, 39, 37, 38, 34, 32]"
      ]
     },
     "execution_count": 40,
     "metadata": {},
     "output_type": "execute_result"
    }
   ],
   "source": [
    "adq1 = []\n",
    "for i in range(10):\n",
    "    adq1.append(np.random.randint(30,40))\n",
    "adq1"
   ]
  },
  {
   "cell_type": "code",
   "execution_count": 95,
   "id": "acc21c30",
   "metadata": {},
   "outputs": [
    {
     "data": {
      "text/plain": [
       "array([[0, 1, 2],\n",
       "       [3, 4, 5],\n",
       "       [6, 7, 8]])"
      ]
     },
     "execution_count": 95,
     "metadata": {},
     "output_type": "execute_result"
    }
   ],
   "source": [
    "matA=np.arange(9).reshape(3,3)\n",
    "matA"
   ]
  },
  {
   "cell_type": "code",
   "execution_count": 96,
   "id": "08f98001",
   "metadata": {},
   "outputs": [
    {
     "data": {
      "text/plain": [
       "array([[1, 2, 3],\n",
       "       [4, 5, 6],\n",
       "       [7, 8, 9]])"
      ]
     },
     "execution_count": 96,
     "metadata": {},
     "output_type": "execute_result"
    }
   ],
   "source": [
    "matA + 1"
   ]
  },
  {
   "cell_type": "code",
   "execution_count": 97,
   "id": "4546187c",
   "metadata": {},
   "outputs": [
    {
     "data": {
      "text/plain": [
       "9"
      ]
     },
     "execution_count": 97,
     "metadata": {},
     "output_type": "execute_result"
    }
   ],
   "source": [
    "matA[-1][-1] + 1"
   ]
  },
  {
   "cell_type": "code",
   "execution_count": 98,
   "id": "39dbbe7e",
   "metadata": {},
   "outputs": [
    {
     "data": {
      "text/plain": [
       "array([[0, 1, 2],\n",
       "       [3, 4, 5],\n",
       "       [6, 7, 8]])"
      ]
     },
     "execution_count": 98,
     "metadata": {},
     "output_type": "execute_result"
    }
   ],
   "source": [
    "matA"
   ]
  },
  {
   "cell_type": "code",
   "execution_count": 99,
   "id": "e4815f63",
   "metadata": {},
   "outputs": [],
   "source": [
    "matA += 1"
   ]
  },
  {
   "cell_type": "code",
   "execution_count": 100,
   "id": "37b14688",
   "metadata": {},
   "outputs": [
    {
     "data": {
      "text/plain": [
       "array([[1, 2, 3],\n",
       "       [4, 5, 6],\n",
       "       [7, 8, 9]])"
      ]
     },
     "execution_count": 100,
     "metadata": {},
     "output_type": "execute_result"
    }
   ],
   "source": [
    "matA"
   ]
  },
  {
   "cell_type": "code",
   "execution_count": 101,
   "id": "a98b8ac3",
   "metadata": {},
   "outputs": [],
   "source": [
    "matA[-1][-1] += 1"
   ]
  },
  {
   "cell_type": "code",
   "execution_count": 102,
   "id": "d02f6ee4",
   "metadata": {},
   "outputs": [
    {
     "data": {
      "text/plain": [
       "array([[ 1,  2,  3],\n",
       "       [ 4,  5,  6],\n",
       "       [ 7,  8, 10]])"
      ]
     },
     "execution_count": 102,
     "metadata": {},
     "output_type": "execute_result"
    }
   ],
   "source": [
    "matA"
   ]
  },
  {
   "cell_type": "code",
   "execution_count": 103,
   "id": "344a939d",
   "metadata": {},
   "outputs": [
    {
     "data": {
      "text/plain": [
       "array([ 7,  8, 10])"
      ]
     },
     "execution_count": 103,
     "metadata": {},
     "output_type": "execute_result"
    }
   ],
   "source": [
    "matA[2]"
   ]
  },
  {
   "cell_type": "code",
   "execution_count": 104,
   "id": "c95ecd57",
   "metadata": {},
   "outputs": [],
   "source": [
    "matB = np.array([7,8,10,4,5,6,1,2,3]).reshape(3,3)"
   ]
  },
  {
   "cell_type": "code",
   "execution_count": 105,
   "id": "7dd48e4f",
   "metadata": {},
   "outputs": [
    {
     "data": {
      "text/plain": [
       "array([[ 7,  8, 10],\n",
       "       [ 4,  5,  6],\n",
       "       [ 1,  2,  3]])"
      ]
     },
     "execution_count": 105,
     "metadata": {},
     "output_type": "execute_result"
    }
   ],
   "source": [
    "matB"
   ]
  },
  {
   "cell_type": "code",
   "execution_count": 106,
   "id": "16dd83e6",
   "metadata": {},
   "outputs": [],
   "source": [
    "matC = matA + matB"
   ]
  },
  {
   "cell_type": "code",
   "execution_count": 107,
   "id": "184ab070",
   "metadata": {},
   "outputs": [
    {
     "data": {
      "text/plain": [
       "array([[ 8, 10, 13],\n",
       "       [ 8, 10, 12],\n",
       "       [ 8, 10, 13]])"
      ]
     },
     "execution_count": 107,
     "metadata": {},
     "output_type": "execute_result"
    }
   ],
   "source": [
    "matC"
   ]
  },
  {
   "cell_type": "code",
   "execution_count": 108,
   "id": "b8676c5a",
   "metadata": {},
   "outputs": [],
   "source": [
    "matE = matA - matB"
   ]
  },
  {
   "cell_type": "code",
   "execution_count": 109,
   "id": "31e7e77c",
   "metadata": {},
   "outputs": [
    {
     "data": {
      "text/plain": [
       "array([[-6, -6, -7],\n",
       "       [ 0,  0,  0],\n",
       "       [ 6,  6,  7]])"
      ]
     },
     "execution_count": 109,
     "metadata": {},
     "output_type": "execute_result"
    }
   ],
   "source": [
    "matE"
   ]
  },
  {
   "cell_type": "code",
   "execution_count": 110,
   "id": "670773d0",
   "metadata": {},
   "outputs": [
    {
     "data": {
      "text/plain": [
       "array([[ 18,  24,  31],\n",
       "       [ 54,  69,  88],\n",
       "       [ 91, 116, 148]])"
      ]
     },
     "execution_count": 110,
     "metadata": {},
     "output_type": "execute_result"
    }
   ],
   "source": [
    "matD = matA.dot(matB)\n",
    "matD"
   ]
  },
  {
   "cell_type": "code",
   "execution_count": 111,
   "id": "eab7885b",
   "metadata": {},
   "outputs": [
    {
     "data": {
      "text/plain": [
       "array([[-6,  0,  6],\n",
       "       [-6,  0,  6],\n",
       "       [-7,  0,  7]])"
      ]
     },
     "execution_count": 111,
     "metadata": {},
     "output_type": "execute_result"
    }
   ],
   "source": [
    "matE.transpose()"
   ]
  },
  {
   "cell_type": "code",
   "execution_count": null,
   "id": "0c80be5a",
   "metadata": {},
   "outputs": [],
   "source": []
  }
 ],
 "metadata": {
  "kernelspec": {
   "display_name": "Python 3 (ipykernel)",
   "language": "python",
   "name": "python3"
  },
  "language_info": {
   "codemirror_mode": {
    "name": "ipython",
    "version": 3
   },
   "file_extension": ".py",
   "mimetype": "text/x-python",
   "name": "python",
   "nbconvert_exporter": "python",
   "pygments_lexer": "ipython3",
   "version": "3.12.3"
  }
 },
 "nbformat": 4,
 "nbformat_minor": 5
}
