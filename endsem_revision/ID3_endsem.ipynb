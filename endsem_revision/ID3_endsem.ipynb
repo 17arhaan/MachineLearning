{
 "cells": [
  {
   "cell_type": "markdown",
   "metadata": {},
   "source": [
    "# ID3 Trees\n",
    "scipy\n"
   ]
  },
  {
   "cell_type": "code",
   "execution_count": 15,
   "metadata": {},
   "outputs": [],
   "source": [
    "import numpy as np\n",
    "from scipy.stats import entropy\n",
    "import pandas as pd"
   ]
  },
  {
   "cell_type": "code",
   "execution_count": 16,
   "metadata": {},
   "outputs": [],
   "source": [
    "data = {\n",
    "    'Age': [30, 45, 50, 35, 60, 55, 40, 25, 65, 45],\n",
    "    'Blood Pressure': ['High', 'Low', 'High', 'Low', 'High', 'Low', 'High', 'Low', 'High', 'Low'],\n",
    "    'Cholesterol': ['High', 'Normal', 'High', 'Normal', 'High', 'Normal', 'High', 'Normal', 'High', 'Normal'],\n",
    "    'Diagnosis': ['Sick', 'Healthy', 'Sick', 'Healthy', 'Sick', 'Healthy', 'Sick', 'Healthy', 'Sick', 'Healthy']\n",
    "}"
   ]
  },
  {
   "cell_type": "code",
   "execution_count": 17,
   "metadata": {},
   "outputs": [],
   "source": [
    "df = pd.DataFrame(data)"
   ]
  },
  {
   "cell_type": "code",
   "execution_count": 18,
   "metadata": {},
   "outputs": [
    {
     "data": {
      "text/html": [
       "<div>\n",
       "<style scoped>\n",
       "    .dataframe tbody tr th:only-of-type {\n",
       "        vertical-align: middle;\n",
       "    }\n",
       "\n",
       "    .dataframe tbody tr th {\n",
       "        vertical-align: top;\n",
       "    }\n",
       "\n",
       "    .dataframe thead th {\n",
       "        text-align: right;\n",
       "    }\n",
       "</style>\n",
       "<table border=\"1\" class=\"dataframe\">\n",
       "  <thead>\n",
       "    <tr style=\"text-align: right;\">\n",
       "      <th></th>\n",
       "      <th>Age</th>\n",
       "      <th>Blood Pressure</th>\n",
       "      <th>Cholesterol</th>\n",
       "      <th>Diagnosis</th>\n",
       "    </tr>\n",
       "  </thead>\n",
       "  <tbody>\n",
       "    <tr>\n",
       "      <th>0</th>\n",
       "      <td>30</td>\n",
       "      <td>High</td>\n",
       "      <td>High</td>\n",
       "      <td>Sick</td>\n",
       "    </tr>\n",
       "    <tr>\n",
       "      <th>1</th>\n",
       "      <td>45</td>\n",
       "      <td>Low</td>\n",
       "      <td>Normal</td>\n",
       "      <td>Healthy</td>\n",
       "    </tr>\n",
       "    <tr>\n",
       "      <th>2</th>\n",
       "      <td>50</td>\n",
       "      <td>High</td>\n",
       "      <td>High</td>\n",
       "      <td>Sick</td>\n",
       "    </tr>\n",
       "    <tr>\n",
       "      <th>3</th>\n",
       "      <td>35</td>\n",
       "      <td>Low</td>\n",
       "      <td>Normal</td>\n",
       "      <td>Healthy</td>\n",
       "    </tr>\n",
       "    <tr>\n",
       "      <th>4</th>\n",
       "      <td>60</td>\n",
       "      <td>High</td>\n",
       "      <td>High</td>\n",
       "      <td>Sick</td>\n",
       "    </tr>\n",
       "    <tr>\n",
       "      <th>5</th>\n",
       "      <td>55</td>\n",
       "      <td>Low</td>\n",
       "      <td>Normal</td>\n",
       "      <td>Healthy</td>\n",
       "    </tr>\n",
       "    <tr>\n",
       "      <th>6</th>\n",
       "      <td>40</td>\n",
       "      <td>High</td>\n",
       "      <td>High</td>\n",
       "      <td>Sick</td>\n",
       "    </tr>\n",
       "    <tr>\n",
       "      <th>7</th>\n",
       "      <td>25</td>\n",
       "      <td>Low</td>\n",
       "      <td>Normal</td>\n",
       "      <td>Healthy</td>\n",
       "    </tr>\n",
       "    <tr>\n",
       "      <th>8</th>\n",
       "      <td>65</td>\n",
       "      <td>High</td>\n",
       "      <td>High</td>\n",
       "      <td>Sick</td>\n",
       "    </tr>\n",
       "    <tr>\n",
       "      <th>9</th>\n",
       "      <td>45</td>\n",
       "      <td>Low</td>\n",
       "      <td>Normal</td>\n",
       "      <td>Healthy</td>\n",
       "    </tr>\n",
       "  </tbody>\n",
       "</table>\n",
       "</div>"
      ],
      "text/plain": [
       "   Age Blood Pressure Cholesterol Diagnosis\n",
       "0   30           High        High      Sick\n",
       "1   45            Low      Normal   Healthy\n",
       "2   50           High        High      Sick\n",
       "3   35            Low      Normal   Healthy\n",
       "4   60           High        High      Sick\n",
       "5   55            Low      Normal   Healthy\n",
       "6   40           High        High      Sick\n",
       "7   25            Low      Normal   Healthy\n",
       "8   65           High        High      Sick\n",
       "9   45            Low      Normal   Healthy"
      ]
     },
     "execution_count": 18,
     "metadata": {},
     "output_type": "execute_result"
    }
   ],
   "source": [
    "df"
   ]
  },
  {
   "cell_type": "code",
   "execution_count": 19,
   "metadata": {},
   "outputs": [],
   "source": [
    "def calc_entropy(labels):\n",
    "    values, counts = np.unique(labels, return_counts=True)\n",
    "    return entropy(counts, base=2)"
   ]
  },
  {
   "cell_type": "code",
   "execution_count": 20,
   "metadata": {},
   "outputs": [],
   "source": [
    "def information_gain(data, attribute, target_attribute):\n",
    "    total_entropy = calc_entropy([x[target_attribute] for x in data])\n",
    "    values = set(x[attribute] for x in data)\n",
    "    weighted_entropy = sum((len([x for x in data if x[attribute] == v]) / len(data)) * calc_entropy([x[target_attribute] for x in data if x[attribute] == v]) for v in values)\n",
    "    return total_entropy - weighted_entropy"
   ]
  },
  {
   "cell_type": "code",
   "execution_count": 23,
   "metadata": {},
   "outputs": [],
   "source": [
    "# Convert data to list of dictionaries format\n",
    "data_list = [{'Age': age, 'Blood Pressure': bp, 'Cholesterol': chol, 'Diagnosis': diag} for age, bp, chol, diag in zip(data['Age'], data['Blood Pressure'], data['Cholesterol'], data['Diagnosis'])]\n",
    "\n",
    "# Calculating information gains for each attribute\n",
    "attributes = ['Age', 'Blood Pressure', 'Cholesterol']\n",
    "gains = {attribute: information_gain(data_list, attribute, 'Diagnosis') for attribute in attributes}\n",
    "\n",
    "# Output the attribute with the maximum information gain\n",
    "best_attribute = max(gains, key=gains.get)"
   ]
  },
  {
   "cell_type": "code",
   "execution_count": 24,
   "metadata": {},
   "outputs": [],
   "source": [
    "# Prediction function based on attributes\n",
    "def predict_diagnosis(age, blood_pressure, cholesterol):\n",
    "    if blood_pressure == 'Low' and cholesterol == 'Normal':\n",
    "        return 'Healthy'\n",
    "    else:\n",
    "        return 'Sick'  # Default case if no clear classification from attributes"
   ]
  },
  {
   "cell_type": "code",
   "execution_count": 26,
   "metadata": {},
   "outputs": [],
   "source": [
    "# Predicting for a 50-year-old with low blood pressure and normal cholesterol\n",
    "patient_diagnosis = predict_diagnosis(50, 'Low', 'Normal')"
   ]
  },
  {
   "cell_type": "code",
   "execution_count": 28,
   "metadata": {},
   "outputs": [
    {
     "name": "stdout",
     "output_type": "stream",
     "text": [
      "Information Gains: {'Age': np.float64(1.0), 'Blood Pressure': np.float64(1.0), 'Cholesterol': np.float64(1.0)}\n",
      "Best Attribute to split on: Age\n",
      "Diagnosis for the patient: Healthy\n"
     ]
    }
   ],
   "source": [
    "# Output the results\n",
    "print(\"Information Gains:\", gains)\n",
    "print(\"Best Attribute to split on:\", best_attribute)\n",
    "print(\"Diagnosis for the patient:\", patient_diagnosis)"
   ]
  },
  {
   "cell_type": "markdown",
   "metadata": {},
   "source": [
    "# OR"
   ]
  },
  {
   "cell_type": "code",
   "execution_count": 1,
   "metadata": {},
   "outputs": [
    {
     "name": "stdout",
     "output_type": "stream",
     "text": [
      "   Age Blood Pressure Cholesterol Diagnosis\n",
      "0   30           High        High      Sick\n",
      "1   45            Low      Normal   Healthy\n",
      "2   50           High        High      Sick\n",
      "3   35            Low      Normal   Healthy\n",
      "4   60           High        High      Sick\n",
      "5   55            Low      Normal   Healthy\n",
      "6   40           High        High      Sick\n",
      "7   25            Low      Normal   Healthy\n",
      "8   65           High        High      Sick\n",
      "9   45            Low      Normal   Healthy\n"
     ]
    }
   ],
   "source": [
    "import pandas as pd\n",
    "import numpy as np \n",
    "\n",
    "p_data = pd.read_csv('patient_data.csv')\n",
    "p_data = p_data.drop('Patient ID', axis=1)\n",
    "print(p_data)\n",
    "\n",
    "class Node:\n",
    "    def __init__(self,):\n",
    "        self.head = None\n",
    "        self.ans = None\n",
    "        self.next = {}\n",
    "        self.end = False\n",
    "\n",
    "class Decision_Tree:\n",
    "    def __init__(self,):\n",
    "        self.root = None\n",
    "\n",
    "    def info_gain(self, data, classifier, attribute):\n",
    "        gain_data = 0\n",
    "        for x in data[classifier].unique():\n",
    "            p = len(data[data[classifier] == x]) / len(data)\n",
    "            gain_data += -p * np.log2(p)\n",
    "        \n",
    "        gain_att = 0\n",
    "        for x in data[attribute].unique():\n",
    "            val = 0\n",
    "            for y in data[classifier].unique():\n",
    "                p = len(data[(data[classifier] == y) & (data[attribute] == x)]) / len(data[data[classifier] == y])\n",
    "                if p == 0:\n",
    "                    continue\n",
    "                val += -p * np.log2(p)\n",
    "            \n",
    "            p_x = len(data[data[attribute] == x]) / len(data)\n",
    "            gain_att += p_x * val\n",
    "\n",
    "        return gain_data - gain_att\n",
    "\n",
    "    def split(self, data, classifier):\n",
    "        if len(data[classifier].unique()) == 1:\n",
    "            ob = Node()\n",
    "            ob.end = True\n",
    "            ob.ans = data[classifier].unique()[0]\n",
    "            return ob\n",
    "        else:\n",
    "            ob = Node()\n",
    "            att = None\n",
    "            info_gain = float('-inf')\n",
    "            for x in data.columns:\n",
    "                if x == classifier:\n",
    "                    continue\n",
    "                val = self.info_gain(data, classifier, x)\n",
    "                if val > info_gain:\n",
    "                    info_gain = val\n",
    "                    att = x\n",
    "            ob.head = att\n",
    "            for x in data[att].unique():\n",
    "                ndata = data[data[att] == x]\n",
    "                ndata = ndata.drop(att, axis=1)\n",
    "                ob.next[x] = self.split(ndata, classifier)\n",
    "            return ob\n",
    "\n",
    "tree = Decision_Tree()\n",
    "tree.root = tree.split(p_data, 'Diagnosis')\n"
   ]
  },
  {
   "cell_type": "code",
   "execution_count": 3,
   "metadata": {},
   "outputs": [
    {
     "name": "stdout",
     "output_type": "stream",
     "text": [
      "Sick\n"
     ]
    }
   ],
   "source": [
    "u_age = input(f'person age = ')\n",
    "u_blood_pressure = input(f'person blood pressure = ')\n",
    "u_cholesterol = input(f'person cholesterol = ')\n",
    "\n",
    "# dfs traversal to reach leaf node.\n",
    "def dfs(curr, age, blood, cholest):\n",
    "    if curr.end:\n",
    "        return curr.ans\n",
    "    if curr.head == 'Age':\n",
    "        return dfs(curr.next[age], age, blood, cholest)\n",
    "    if curr.head == 'Blood Pressure':\n",
    "        return dfs(curr.next[blood], age, blood, cholest)\n",
    "    return dfs(curr.next[cholest], age, blood, cholest)\n",
    "    \n",
    "print(dfs(tree.root, u_age, u_blood_pressure, u_cholesterol))"
   ]
  }
 ],
 "metadata": {
  "kernelspec": {
   "display_name": "Python 3",
   "language": "python",
   "name": "python3"
  },
  "language_info": {
   "codemirror_mode": {
    "name": "ipython",
    "version": 3
   },
   "file_extension": ".py",
   "mimetype": "text/x-python",
   "name": "python",
   "nbconvert_exporter": "python",
   "pygments_lexer": "ipython3",
   "version": "3.10.11"
  }
 },
 "nbformat": 4,
 "nbformat_minor": 2
}
