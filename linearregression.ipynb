{
 "cells": [
  {
   "cell_type": "markdown",
   "metadata": {},
   "source": [
    "# Linear Regression w/o Scikit Learn"
   ]
  },
  {
   "cell_type": "code",
   "execution_count": 4,
   "metadata": {},
   "outputs": [],
   "source": [
    "import numpy as np\n",
    "import pandas as pd\n",
    "import matplotlib.pyplot as plt"
   ]
  },
  {
   "cell_type": "code",
   "execution_count": 1,
   "metadata": {},
   "outputs": [],
   "source": [
    "data = [\n",
    "    {'StudyTime': 3, 'Score': 5},\n",
    "    {'StudyTime': 3, 'Score': 6},\n",
    "    {'StudyTime': 0, 'Score': 5},\n",
    "    {'StudyTime': 9, 'Score': 9},\n",
    "    {'StudyTime': 0, 'Score': 1},\n",
    "    {'StudyTime': 7, 'Score': 9},\n",
    "    {'StudyTime': 3, 'Score': 9},\n",
    "    {'StudyTime': 2, 'Score': 5},\n",
    "    {'StudyTime': 6, 'Score': 6},\n",
    "    {'StudyTime': 3, 'Score': 9},\n",
    "]"
   ]
  },
  {
   "cell_type": "code",
   "execution_count": 5,
   "metadata": {},
   "outputs": [],
   "source": [
    "df = pd.DataFrame(data)\n",
    "x = df['StudyTime'].values\n",
    "y = df['Score'].values"
   ]
  },
  {
   "cell_type": "code",
   "execution_count": 6,
   "metadata": {},
   "outputs": [
    {
     "data": {
      "text/plain": [
       "array([3, 3, 0, 9, 0, 7, 3, 2, 6, 3])"
      ]
     },
     "execution_count": 6,
     "metadata": {},
     "output_type": "execute_result"
    }
   ],
   "source": [
    "x"
   ]
  },
  {
   "cell_type": "code",
   "execution_count": 7,
   "metadata": {},
   "outputs": [
    {
     "data": {
      "text/plain": [
       "array([5, 6, 5, 9, 1, 9, 9, 5, 6, 9])"
      ]
     },
     "execution_count": 7,
     "metadata": {},
     "output_type": "execute_result"
    }
   ],
   "source": [
    "y"
   ]
  },
  {
   "cell_type": "markdown",
   "metadata": {},
   "source": [
    "## Pedhazur Method"
   ]
  },
  {
   "cell_type": "code",
   "execution_count": 8,
   "metadata": {},
   "outputs": [],
   "source": [
    "x_mean = np.mean(x)\n",
    "y_mean = np.mean(y)\n",
    "xy_mean = np.mean(x * y)\n",
    "x_sq_mean = np.mean(x**2)\n"
   ]
  },
  {
   "cell_type": "code",
   "execution_count": 10,
   "metadata": {},
   "outputs": [
    {
     "data": {
      "text/plain": [
       "np.float64(0.6099476439790575)"
      ]
     },
     "execution_count": 10,
     "metadata": {},
     "output_type": "execute_result"
    }
   ],
   "source": [
    "B1 = np.sum((x - x_mean) * (y - y_mean)) / np.sum((x - x_mean) ** 2)\n",
    "B1"
   ]
  },
  {
   "cell_type": "code",
   "execution_count": 13,
   "metadata": {},
   "outputs": [
    {
     "data": {
      "text/plain": [
       "np.float64(4.204188481675393)"
      ]
     },
     "execution_count": 13,
     "metadata": {},
     "output_type": "execute_result"
    }
   ],
   "source": [
    "B0 = y_mean - B1 * x_mean\n",
    "B0"
   ]
  },
  {
   "cell_type": "code",
   "execution_count": 17,
   "metadata": {},
   "outputs": [
    {
     "data": {
      "text/plain": [
       "array([6.03403141, 6.03403141, 4.20418848, 9.69371728, 4.20418848,\n",
       "       8.47382199, 6.03403141, 5.42408377, 7.86387435, 6.03403141])"
      ]
     },
     "execution_count": 17,
     "metadata": {},
     "output_type": "execute_result"
    }
   ],
   "source": [
    "y_pred = B0 + B1 * x\n",
    "y_pred"
   ]
  },
  {
   "cell_type": "code",
   "execution_count": 18,
   "metadata": {},
   "outputs": [
    {
     "data": {
      "text/plain": [
       "np.float64(1.8432699148680294)"
      ]
     },
     "execution_count": 18,
     "metadata": {},
     "output_type": "execute_result"
    }
   ],
   "source": [
    "rmse = np.sqrt(np.mean((y - y_pred) ** 2))\n",
    "rmse "
   ]
  },
  {
   "cell_type": "code",
   "execution_count": 26,
   "metadata": {},
   "outputs": [
    {
     "name": "stdout",
     "output_type": "stream",
     "text": [
      "Intercept (Pedhazur B0): 4.204188481675393\n",
      "Slope (Pedhazur B1): 0.6099476439790575\n"
     ]
    }
   ],
   "source": [
    "\n",
    "print(f\"Intercept (Pedhazur B0): {B0}\")\n",
    "print(f\"Slope (Pedhazur B1): {B1}\")"
   ]
  },
  {
   "cell_type": "markdown",
   "metadata": {},
   "source": [
    "## Calculus Method"
   ]
  },
  {
   "cell_type": "code",
   "execution_count": 20,
   "metadata": {},
   "outputs": [],
   "source": [
    "learning_rate = 0.01"
   ]
  },
  {
   "cell_type": "code",
   "execution_count": 21,
   "metadata": {},
   "outputs": [],
   "source": [
    "epochs = 1000"
   ]
  },
  {
   "cell_type": "code",
   "execution_count": 22,
   "metadata": {},
   "outputs": [],
   "source": [
    "B0_calc , B1_calc = 0,0"
   ]
  },
  {
   "cell_type": "code",
   "execution_count": 29,
   "metadata": {},
   "outputs": [],
   "source": [
    "for _ in range(epochs):\n",
    "    y_pred_calc = B0_calc + B1_calc * x\n",
    "    error = y_pred_calc - y\n",
    "    B0_calc -= learning_rate * (2 / len(x)) * np.sum(error)\n",
    "    B1_calc -= learning_rate * (2 / len(x)) * np.sum(error * x)"
   ]
  },
  {
   "cell_type": "code",
   "execution_count": 30,
   "metadata": {},
   "outputs": [
    {
     "name": "stdout",
     "output_type": "stream",
     "text": [
      "Intercept (Calculus B0): 4.2012827719909795\n",
      "Slope (Calculus B1): 0.6104644619857059\n"
     ]
    }
   ],
   "source": [
    "print(f\"Intercept (Calculus B0): {B0_calc}\")\n",
    "print(f\"Slope (Calculus B1): {B1_calc}\")"
   ]
  },
  {
   "cell_type": "code",
   "execution_count": 31,
   "metadata": {},
   "outputs": [
    {
     "name": "stdout",
     "output_type": "stream",
     "text": [
      "Pedhazur Intercept (B0): 4.204188481675393\n",
      "Pedhazur Slope (B1): 0.6099476439790575\n",
      "Calculus Intercept (B0): 4.2012827719909795\n",
      "Calculus Slope (B1): 0.6104644619857059\n"
     ]
    }
   ],
   "source": [
    "print(f\"Pedhazur Intercept (B0): {B0}\")\n",
    "print(f\"Pedhazur Slope (B1): {B1}\")\n",
    "print(f\"Calculus Intercept (B0): {B0_calc}\")\n",
    "print(f\"Calculus Slope (B1): {B1_calc}\")"
   ]
  },
  {
   "cell_type": "markdown",
   "metadata": {},
   "source": [
    "#### Testing Model\n",
    "\n"
   ]
  },
  {
   "cell_type": "code",
   "execution_count": 32,
   "metadata": {},
   "outputs": [],
   "source": [
    "study_time_test = 10"
   ]
  },
  {
   "cell_type": "code",
   "execution_count": 33,
   "metadata": {},
   "outputs": [],
   "source": [
    "pred_test = B0 + B1 * study_time_test  "
   ]
  },
  {
   "cell_type": "code",
   "execution_count": 35,
   "metadata": {},
   "outputs": [
    {
     "name": "stdout",
     "output_type": "stream",
     "text": [
      "Predicted score for 10 hours of study time: 10.30366492146597\n"
     ]
    }
   ],
   "source": [
    "print(f\"Predicted score for 10 hours of study time: {pred_test}\")"
   ]
  },
  {
   "cell_type": "markdown",
   "metadata": {},
   "source": [
    "#### Plotting Graphs\n"
   ]
  },
  {
   "cell_type": "code",
   "execution_count": 43,
   "metadata": {},
   "outputs": [
    {
     "data": {
      "image/png": "[encoded data removed]",
      "text/plain": [
       "<Figure size 1000x600 with 1 Axes>"
      ]
     },
     "metadata": {},
     "output_type": "display_data"
    }
   ],
   "source": [
    "plt.figure(figsize=(10,6))\n",
    "plt.scatter(x,y,color = 'red',label='Acutal Data')\n",
    "plt.plot(x,y_pred,color ='blue',label=\"Fitted Line\")\n",
    "plt.xlabel('Study Time')\n",
    "plt.ylabel('Score')\n",
    "plt.title('Study Time vs Score')\n",
    "plt.legend()\n",
    "plt.grid(True)\n",
    "plt.show()"
   ]
  }
 ],
 "metadata": {
  "kernelspec": {
   "display_name": "Python 3",
   "language": "python",
   "name": "python3"
  },
  "language_info": {
   "codemirror_mode": {
    "name": "ipython",
    "version": 3
   },
   "file_extension": ".py",
   "mimetype": "text/x-python",
   "name": "python",
   "nbconvert_exporter": "python",
   "pygments_lexer": "ipython3",
   "version": "3.11.9"
  }
 },
 "nbformat": 4,
 "nbformat_minor": 2
}
