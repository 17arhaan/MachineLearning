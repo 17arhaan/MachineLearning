{
 "cells": [
  {
   "cell_type": "code",
   "execution_count": 1,
   "metadata": {},
   "outputs": [
    {
     "name": "stderr",
     "output_type": "stream",
     "text": [
      "/usr/lib/python3/dist-packages/scipy/__init__.py:146: UserWarning: A NumPy version >=1.17.3 and <1.25.0 is required for this version of SciPy (detected version 1.26.0\n",
      "  warnings.warn(f\"A NumPy version >={np_minversion} and <{np_maxversion}\"\n",
      "/usr/local/lib/python3.10/dist-packages/matplotlib/projections/__init__.py:63: UserWarning: Unable to import Axes3D. This may be due to multiple versions of Matplotlib being installed (e.g. as a system package and as a pip package). As a result, the 3D projection is not available.\n",
      "  warnings.warn(\"Unable to import Axes3D. This may be due to multiple versions of \"\n"
     ]
    }
   ],
   "source": [
    "import numpy as np\n",
    "import pandas as pd\n",
    "import scipy\n",
    "import matplotlib as plt\n",
    "import seaborn as sns\n",
    "import sklearn"
   ]
  },
  {
   "cell_type": "markdown",
   "metadata": {},
   "source": [
    "csv r&w"
   ]
  },
  {
   "cell_type": "code",
   "execution_count": 5,
   "metadata": {},
   "outputs": [],
   "source": [
    "import csv "
   ]
  },
  {
   "cell_type": "code",
   "execution_count": 6,
   "metadata": {},
   "outputs": [
    {
     "data": {
      "text/html": [
       "<div>\n",
       "<style scoped>\n",
       "    .dataframe tbody tr th:only-of-type {\n",
       "        vertical-align: middle;\n",
       "    }\n",
       "\n",
       "    .dataframe tbody tr th {\n",
       "        vertical-align: top;\n",
       "    }\n",
       "\n",
       "    .dataframe thead th {\n",
       "        text-align: right;\n",
       "    }\n",
       "</style>\n",
       "<table border=\"1\" class=\"dataframe\">\n",
       "  <thead>\n",
       "    <tr style=\"text-align: right;\">\n",
       "      <th></th>\n",
       "      <th>Name</th>\n",
       "      <th>HEX</th>\n",
       "      <th>RGB</th>\n",
       "    </tr>\n",
       "  </thead>\n",
       "  <tbody>\n",
       "    <tr>\n",
       "      <th>0</th>\n",
       "      <td>White</td>\n",
       "      <td>#FFFFFF</td>\n",
       "      <td>rgb(100,100,100)</td>\n",
       "    </tr>\n",
       "    <tr>\n",
       "      <th>1</th>\n",
       "      <td>Silver</td>\n",
       "      <td>#C0C0C0</td>\n",
       "      <td>rgb(75,75,75)</td>\n",
       "    </tr>\n",
       "    <tr>\n",
       "      <th>2</th>\n",
       "      <td>Gray</td>\n",
       "      <td>#808080</td>\n",
       "      <td>rgb(50,50,50)</td>\n",
       "    </tr>\n",
       "    <tr>\n",
       "      <th>3</th>\n",
       "      <td>Black</td>\n",
       "      <td>#000000</td>\n",
       "      <td>rgb(0,0,0)</td>\n",
       "    </tr>\n",
       "    <tr>\n",
       "      <th>4</th>\n",
       "      <td>Red</td>\n",
       "      <td>#FF0000</td>\n",
       "      <td>rgb(100,0,0)</td>\n",
       "    </tr>\n",
       "    <tr>\n",
       "      <th>5</th>\n",
       "      <td>Maroon</td>\n",
       "      <td>#800000</td>\n",
       "      <td>rgb(50,0,0)</td>\n",
       "    </tr>\n",
       "    <tr>\n",
       "      <th>6</th>\n",
       "      <td>Yellow</td>\n",
       "      <td>#FFFF00</td>\n",
       "      <td>rgb(100,100,0)</td>\n",
       "    </tr>\n",
       "    <tr>\n",
       "      <th>7</th>\n",
       "      <td>Olive</td>\n",
       "      <td>#808000</td>\n",
       "      <td>rgb(50,50,0)</td>\n",
       "    </tr>\n",
       "    <tr>\n",
       "      <th>8</th>\n",
       "      <td>Lime</td>\n",
       "      <td>#00FF00</td>\n",
       "      <td>rgb(0,100,0)</td>\n",
       "    </tr>\n",
       "    <tr>\n",
       "      <th>9</th>\n",
       "      <td>Green</td>\n",
       "      <td>#008000</td>\n",
       "      <td>rgb(0,50,0)</td>\n",
       "    </tr>\n",
       "    <tr>\n",
       "      <th>10</th>\n",
       "      <td>Aqua</td>\n",
       "      <td>#00FFFF</td>\n",
       "      <td>rgb(0,100,100)</td>\n",
       "    </tr>\n",
       "    <tr>\n",
       "      <th>11</th>\n",
       "      <td>Teal</td>\n",
       "      <td>#008080</td>\n",
       "      <td>rgb(0,50,50)</td>\n",
       "    </tr>\n",
       "    <tr>\n",
       "      <th>12</th>\n",
       "      <td>Blue</td>\n",
       "      <td>#0000FF</td>\n",
       "      <td>rgb(0,0,100)</td>\n",
       "    </tr>\n",
       "    <tr>\n",
       "      <th>13</th>\n",
       "      <td>Navy</td>\n",
       "      <td>#000080</td>\n",
       "      <td>rgb(0,0,50)</td>\n",
       "    </tr>\n",
       "    <tr>\n",
       "      <th>14</th>\n",
       "      <td>Fuchsia</td>\n",
       "      <td>#FF00FF</td>\n",
       "      <td>rgb(100,0,100)</td>\n",
       "    </tr>\n",
       "    <tr>\n",
       "      <th>15</th>\n",
       "      <td>Purple</td>\n",
       "      <td>#800080</td>\n",
       "      <td>rgb(50,0,50)</td>\n",
       "    </tr>\n",
       "  </tbody>\n",
       "</table>\n",
       "</div>"
      ],
      "text/plain": [
       "       Name      HEX               RGB\n",
       "0     White  #FFFFFF  rgb(100,100,100)\n",
       "1    Silver  #C0C0C0     rgb(75,75,75)\n",
       "2      Gray  #808080     rgb(50,50,50)\n",
       "3     Black  #000000        rgb(0,0,0)\n",
       "4       Red  #FF0000      rgb(100,0,0)\n",
       "5    Maroon  #800000       rgb(50,0,0)\n",
       "6    Yellow  #FFFF00    rgb(100,100,0)\n",
       "7     Olive  #808000      rgb(50,50,0)\n",
       "8      Lime  #00FF00      rgb(0,100,0)\n",
       "9     Green  #008000       rgb(0,50,0)\n",
       "10     Aqua  #00FFFF    rgb(0,100,100)\n",
       "11     Teal  #008080      rgb(0,50,50)\n",
       "12     Blue  #0000FF      rgb(0,0,100)\n",
       "13     Navy  #000080       rgb(0,0,50)\n",
       "14  Fuchsia  #FF00FF    rgb(100,0,100)\n",
       "15   Purple  #800080      rgb(50,0,50)"
      ]
     },
     "execution_count": 6,
     "metadata": {},
     "output_type": "execute_result"
    }
   ],
   "source": [
    "df = pd.read_csv('example.csv')\n",
    "df"
   ]
  },
  {
   "cell_type": "code",
   "execution_count": null,
   "metadata": {},
   "outputs": [],
   "source": [
    "with open('example.csv', 'rt') as f:\n",
    "    data = csv.reader(f)\n",
    "    for i in data:\n",
    "        print(i)"
   ]
  }
 ],
 "metadata": {
  "kernelspec": {
   "display_name": "Python 3",
   "language": "python",
   "name": "python3"
  },
  "language_info": {
   "codemirror_mode": {
    "name": "ipython",
    "version": 3
   },
   "file_extension": ".py",
   "mimetype": "text/x-python",
   "name": "python",
   "nbconvert_exporter": "python",
   "pygments_lexer": "ipython3",
   "version": "3.10.12"
  }
 },
 "nbformat": 4,
 "nbformat_minor": 2
}
