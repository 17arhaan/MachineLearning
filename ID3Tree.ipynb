{
 "cells": [
  {
   "cell_type": "markdown",
   "metadata": {},
   "source": [
    "# ID3 Tree"
   ]
  },
  {
   "cell_type": "markdown",
   "metadata": {},
   "source": [
    "\n",
    "\n",
    "A dataset is provided to classify patients as \"Healthy\" or \"Sick\" based on their Age, Blood Pressure, and Cholesterol levels.\n",
    "\n",
    "Tasks:\n",
    "1. Calculate the entropy for the target variable (Diagnosis).\n",
    "2. Calculate the information gain for each feature (Age, Blood Pressure, Cholesterol).3. Using the ID3 algorithm, decide which feature should be chosen as the root node for the decision\n",
    "tree.\n",
    "4. Build the decision tree and explain the first few splits.\n",
    "5. Predict whether a 50-year-old patient with low blood pressure and normal cholesterol is healthy or\n",
    "sick using the tree you built.\n",
    "6. Implement the above using function python program without using scikit learn library."
   ]
  },
  {
   "cell_type": "code",
   "execution_count": null,
   "metadata": {},
   "outputs": [
    {
     "name": "stdout",
     "output_type": "stream",
     "text": [
      "{'Age': 35, 'Blood Pressure': 'High', 'Cholesterol': 'Normal'}\n",
      "Prediction for the new patient (Age: 35): Sick\n"
     ]
    }
   ],
   "source": [
    "import numpy as np\n",
    "import pandas as pd\n",
    "\n",
    "data = {\n",
    "    'Age': [30, 45, 50, 35, 60, 55, 40, 25, 65, 45],\n",
    "    'Blood Pressure': ['High', 'Low', 'High', 'Low', 'High', 'Low', 'High', 'Low', 'High', 'Low'],\n",
    "    'Cholesterol': ['High', 'Normal', 'High', 'Normal', 'High', 'Normal', 'High', 'Normal', 'High', 'Normal'],\n",
    "    'Diagnosis': ['Sick', 'Healthy', 'Sick', 'Healthy', 'Sick', 'Healthy', 'Sick', 'Healthy', 'Sick', 'Healthy']\n",
    "}\n",
    "\n",
    "df = pd.DataFrame(data)\n",
    "\n",
    "def entropy(target_col):\n",
    "    elements, counts = np.unique(target_col, return_counts=True)\n",
    "    entropy_value = -sum((count / sum(counts)) * np.log2(count / sum(counts)) for count in counts)\n",
    "    return entropy_value\n",
    "\n",
    "def information_gain(data, split_col, target_col):\n",
    "    total_entropy = entropy(data[target_col])\n",
    "    values, counts = np.unique(data[split_col], return_counts=True)\n",
    "    weighted_entropy = sum((counts[i] / sum(counts)) * entropy(data[data[split_col] == values[i]][target_col]) for i in range(len(values)))\n",
    "    return total_entropy - weighted_entropy\n",
    "\n",
    "def build_decision_tree(data, target_col):\n",
    "    if len(np.unique(data[target_col])) == 1:\n",
    "        return data[target_col].values[0]\n",
    "    if len(data.columns) == 1:\n",
    "        return data[target_col].mode()[0]\n",
    "    \n",
    "    features = ['Blood Pressure', 'Cholesterol']\n",
    "    tree = {}\n",
    "    \n",
    "    for feature in features:\n",
    "        tree[feature] = {}\n",
    "        for value in np.unique(data[feature]):\n",
    "            subset = data[data[feature] == value]\n",
    "            diagnosis = subset[target_col].mode()[0] if not subset.empty else \"Unknown\"\n",
    "            tree[feature][value] = diagnosis\n",
    "            \n",
    "    return tree\n",
    "\n",
    "decision_tree = build_decision_tree(df, 'Diagnosis')\n",
    "\n",
    "def predict(tree, sample):\n",
    "    age = sample['Age']\n",
    "    blood_pressure = sample['Blood Pressure']\n",
    "    cholesterol = sample['Cholesterol']\n",
    "    \n",
    "    if age > 60 and (blood_pressure == 'High' or cholesterol == 'High'):\n",
    "        return 'Sick'\n",
    "    \n",
    "    for feature in tree:\n",
    "        feature_value = sample[feature]\n",
    "        if feature_value in tree[feature]:\n",
    "            return tree[feature][feature_value]\n",
    "    \n",
    "    return \"Unknown\"\n",
    "\n",
    "age = int(input(\"Enter the patient's age: \"))\n",
    "blood_pressure = int(input(\"Enter the patient's blood pressure (1 for High, 0 for Low): \"))\n",
    "cholesterol = int(input(\"Enter the patient's cholesterol level (1 for High, 0 for Normal): \"))\n",
    "\n",
    "blood_pressure_label = 'High' if blood_pressure == 1 else 'Low'\n",
    "cholesterol_label = 'High' if cholesterol == 1 else 'Normal'\n",
    "\n",
    "new_patient = {'Age': age, 'Blood Pressure': blood_pressure_label, 'Cholesterol': cholesterol_label}\n",
    "print(new_patient)  # Show input details\n",
    "prediction = predict(decision_tree, new_patient)\n",
    "print(f\"Prediction for the new patient (Age: {age}): {prediction}\")"
   ]
  }
 ],
 "metadata": {
  "language_info": {
   "name": "python"
  }
 },
 "nbformat": 4,
 "nbformat_minor": 2
}
